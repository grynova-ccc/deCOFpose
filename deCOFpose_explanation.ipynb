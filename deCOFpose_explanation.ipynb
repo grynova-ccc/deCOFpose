{
 "cells": [
  {
   "cell_type": "code",
   "execution_count": 1,
   "metadata": {},
   "outputs": [
    {
     "name": "stdout",
     "output_type": "stream",
     "text": [
      "2024.03.5\n"
     ]
    }
   ],
   "source": [
    "from rdkit.Chem.Draw import IPythonConsole\n",
    "import rdkit\n",
    "print(rdkit.__version__)\n",
    "IPythonConsole.molSize = 1700,1700\n",
    "from ase.io import read\n",
    "from rdkit import Chem\n",
    "from rdkit.Chem import AllChem\n",
    "\n",
    "\n"
   ]
  },
  {
   "cell_type": "code",
   "execution_count": 2,
   "metadata": {},
   "outputs": [],
   "source": [
    "IPythonConsole.drawOptions.addAtomIndices = False"
   ]
  },
  {
   "cell_type": "code",
   "execution_count": 3,
   "metadata": {},
   "outputs": [],
   "source": [
    "from mini_tools import highlight_shared_bonds\n",
    "from chouse_bonds import create_graph_from_bonds,find_symmetrical_triangles_or_all,create_adjacency_matrix,frag_func,guilatine,get_fragments_with_unique_ids, combine\n",
    "from chem_rules import Rule1, Rule2, Rule3, Rule4"
   ]
  },
  {
   "cell_type": "code",
   "execution_count": 4,
   "metadata": {},
   "outputs": [],
   "source": [
    "from cif2mol import build_rdkit_mol_from_supercell"
   ]
  },
  {
   "cell_type": "markdown",
   "metadata": {},
   "source": [
    "This code convert cif to mol graph"
   ]
  },
  {
   "cell_type": "code",
   "execution_count": 5,
   "metadata": {},
   "outputs": [
    {
     "name": "stdout",
     "output_type": "stream",
     "text": [
      "Final molecule has: 42 atoms.\n"
     ]
    }
   ],
   "source": [
    "icof = 447\n",
    "# Read the primitive cell from a CIF file\n",
    "atoms = read(f\"{icof}.cif\")\n",
    "\n",
    "# Create the final molecule from the supercell\n",
    "final_mol = build_rdkit_mol_from_supercell(atoms, repeat=(3, 3, 3))\n",
    "\n",
    "# For debugging or confirmation\n",
    "print(\"Final molecule has:\", final_mol.GetNumAtoms(), \"atoms.\")"
   ]
  },
  {
   "cell_type": "code",
   "execution_count": 8,
   "metadata": {},
   "outputs": [
    {
     "name": "stderr",
     "output_type": "stream",
     "text": [
      "Atoms:\n",
      "\t0 6 C chg: 0  deg: 3 exp: 4 imp: 0 hyb: SP2 arom?: 1\n",
      "\t1 6 C chg: 0  deg: 3 exp: 4 imp: 0 hyb: SP2 arom?: 1\n",
      "\t2 6 C chg: 0  deg: 3 exp: 4 imp: 0 hyb: SP2 arom?: 1\n",
      "\t3 6 C chg: 0  deg: 3 exp: 4 imp: 0 hyb: SP2 arom?: 1\n",
      "\t4 6 C chg: 0  deg: 3 exp: 4 imp: 0 hyb: SP2 arom?: 1\n",
      "\t5 6 C chg: 0  deg: 3 exp: 4 imp: 0 hyb: SP2 arom?: 1\n",
      "\t6 5 B chg: 0  deg: 3 exp: 3 imp: 0 hyb: SP2\n",
      "\t7 8 O chg: 0  deg: 2 exp: 2 imp: 0 hyb: SP3\n",
      "\t8 5 B chg: 0  deg: 3 exp: 3 imp: 0 hyb: SP2\n",
      "\t9 8 O chg: 0  deg: 2 exp: 2 imp: 0 hyb: SP3\n",
      "\t10 5 B chg: 0  deg: 3 exp: 3 imp: 0 hyb: SP2\n",
      "\t11 8 O chg: 0  deg: 2 exp: 2 imp: 0 hyb: SP3\n",
      "\t12 6 C chg: 0  deg: 3 exp: 4 imp: 0 hyb: SP2 arom?: 1\n",
      "\t13 6 C chg: 0  deg: 3 exp: 4 imp: 0 hyb: SP2 arom?: 1\n",
      "\t14 6 C chg: 0  deg: 3 exp: 4 imp: 0 hyb: SP2 arom?: 1\n",
      "\t15 6 C chg: 0  deg: 3 exp: 4 imp: 0 hyb: SP2 arom?: 1\n",
      "\t16 6 C chg: 0  deg: 3 exp: 4 imp: 0 hyb: SP2 arom?: 1\n",
      "\t17 7 N chg: 0  deg: 2 exp: 3 imp: 0 hyb: SP2 arom?: 1\n",
      "\t18 6 C chg: 0  deg: 3 exp: 4 imp: 0 hyb: SP2 arom?: 1\n",
      "\t19 7 N chg: 0  deg: 2 exp: 3 imp: 0 hyb: SP2 arom?: 1\n",
      "\t20 6 C chg: 0  deg: 3 exp: 4 imp: 0 hyb: SP2 arom?: 1\n",
      "\t21 7 N chg: 0  deg: 2 exp: 3 imp: 0 hyb: SP2 arom?: 1\n",
      "\t22 6 C chg: 0  deg: 3 exp: 4 imp: 0 hyb: SP2 arom?: 1\n",
      "\t23 6 C chg: 0  deg: 3 exp: 4 imp: 0 hyb: SP2 arom?: 1\n",
      "\t24 6 C chg: 0  deg: 3 exp: 4 imp: 0 hyb: SP2 arom?: 1\n",
      "\t25 6 C chg: 0  deg: 3 exp: 4 imp: 0 hyb: SP2 arom?: 1\n",
      "\t26 6 C chg: 0  deg: 3 exp: 4 imp: 0 hyb: SP2 arom?: 1\n",
      "\t27 6 C chg: 0  deg: 3 exp: 4 imp: 0 hyb: SP2 arom?: 1\n",
      "\t28 6 C chg: 0  deg: 3 exp: 4 imp: 0 hyb: SP2 arom?: 1\n",
      "\t29 6 C chg: 0  deg: 3 exp: 4 imp: 0 hyb: SP2 arom?: 1\n",
      "\t30 1 H chg: 0  deg: 1 exp: 1 imp: 0 hyb: S\n",
      "\t31 1 H chg: 0  deg: 1 exp: 1 imp: 0 hyb: S\n",
      "\t32 1 H chg: 0  deg: 1 exp: 1 imp: 0 hyb: S\n",
      "\t33 1 H chg: 0  deg: 1 exp: 1 imp: 0 hyb: S\n",
      "\t34 1 H chg: 0  deg: 1 exp: 1 imp: 0 hyb: S\n",
      "\t35 1 H chg: 0  deg: 1 exp: 1 imp: 0 hyb: S\n",
      "\t36 1 H chg: 0  deg: 1 exp: 1 imp: 0 hyb: S\n",
      "\t37 1 H chg: 0  deg: 1 exp: 1 imp: 0 hyb: S\n",
      "\t38 1 H chg: 0  deg: 1 exp: 1 imp: 0 hyb: S\n",
      "\t39 1 H chg: 0  deg: 1 exp: 1 imp: 0 hyb: S\n",
      "\t40 1 H chg: 0  deg: 1 exp: 1 imp: 0 hyb: S\n",
      "\t41 1 H chg: 0  deg: 1 exp: 1 imp: 0 hyb: S\n",
      "Bonds:\n",
      "\t0 0->1 order: a conj?: 1 aromatic?: 1\n",
      "\t1 1->2 order: a conj?: 1 aromatic?: 1\n",
      "\t2 2->3 order: a conj?: 1 aromatic?: 1\n",
      "\t3 3->4 order: a conj?: 1 aromatic?: 1\n",
      "\t4 4->5 order: a conj?: 1 aromatic?: 1\n",
      "\t5 5->6 order: 1\n",
      "\t6 6->7 order: 1\n",
      "\t7 7->8 order: 1\n",
      "\t8 8->9 order: 1\n",
      "\t9 9->10 order: 1\n",
      "\t10 10->11 order: 1\n",
      "\t11 10->12 order: 1\n",
      "\t12 12->13 order: a conj?: 1 aromatic?: 1\n",
      "\t13 13->14 order: a conj?: 1 aromatic?: 1\n",
      "\t14 14->15 order: a conj?: 1 aromatic?: 1\n",
      "\t15 15->16 order: 1 conj?: 1\n",
      "\t16 16->17 order: a conj?: 1 aromatic?: 1\n",
      "\t17 17->18 order: a conj?: 1 aromatic?: 1\n",
      "\t18 18->19 order: a conj?: 1 aromatic?: 1\n",
      "\t19 19->20 order: a conj?: 1 aromatic?: 1\n",
      "\t20 20->21 order: a conj?: 1 aromatic?: 1\n",
      "\t21 20->22 order: 1 conj?: 1\n",
      "\t22 22->23 order: a conj?: 1 aromatic?: 1\n",
      "\t23 23->24 order: a conj?: 1 aromatic?: 1\n",
      "\t24 24->25 order: a conj?: 1 aromatic?: 1\n",
      "\t25 25->26 order: a conj?: 1 aromatic?: 1\n",
      "\t26 26->27 order: a conj?: 1 aromatic?: 1\n",
      "\t27 15->28 order: a conj?: 1 aromatic?: 1\n",
      "\t28 28->29 order: a conj?: 1 aromatic?: 1\n",
      "\t29 5->0 order: a conj?: 1 aromatic?: 1\n",
      "\t30 11->6 order: 1\n",
      "\t31 29->12 order: a conj?: 1 aromatic?: 1\n",
      "\t32 18->2 order: 1 conj?: 1\n",
      "\t33 27->22 order: a conj?: 1 aromatic?: 1\n",
      "\t34 25->8 order: 1\n",
      "\t35 21->16 order: a conj?: 1 aromatic?: 1\n",
      "\t36 0->30 order: 1\n",
      "\t37 1->31 order: 1\n",
      "\t38 3->32 order: 1\n",
      "\t39 4->33 order: 1\n",
      "\t40 13->34 order: 1\n",
      "\t41 14->35 order: 1\n",
      "\t42 23->36 order: 1\n",
      "\t43 24->37 order: 1\n",
      "\t44 26->38 order: 1\n",
      "\t45 27->39 order: 1\n",
      "\t46 28->40 order: 1\n",
      "\t47 29->41 order: 1\n"
     ]
    }
   ],
   "source": [
    "mol_fragment = Chem.GetMolFrags(final_mol, asMols=True)\n",
    "len_cof_frag=len(mol_fragment)\n",
    "for i, single_mol in enumerate(mol_fragment):\n",
    "    if len(mol_fragment[i].GetAtoms()) ==len(mol_fragment[0].GetAtoms()):\n",
    "        single_mol = Chem.AddHs(single_mol)\n",
    "        Chem.SanitizeMol(single_mol)\n",
    "    else:\n",
    "        single_mol=None\n",
    "single_mol.Debug()"
   ]
  },
  {
   "cell_type": "code",
   "execution_count": 9,
   "metadata": {},
   "outputs": [],
   "source": [
    "rules = [Rule1(), Rule4(), Rule2(), Rule3()]"
   ]
  },
  {
   "cell_type": "code",
   "execution_count": null,
   "metadata": {},
   "outputs": [],
   "source": [
    "if single_mol!=None:\n",
    "\n",
    "\n",
    "   \n",
    "    out_bonds = set()\n",
    "    current_mol = single_mol\n",
    "    for rule in rules:\n",
    "        matched_bonds, current_mol = rule.apply(current_mol,\n",
    "                                                highlight_shared_bonds(single_mol)[1],highlight_shared_bonds(single_mol)[1],highlight_shared_bonds(single_mol)[2])\n",
    "        \n",
    "        out_bonds.update(matched_bonds)\n",
    "\n",
    "    #here are all the bonds that satisfy our rules\n",
    "    suspected_bonds = list(out_bonds)  # removes duplicates\n",
    "\n",
    "    #some additional variables for later use\n",
    "    mol=current_mol \n",
    "    mol_out=current_mol \n",
    "\n",
    "    # Generate bond fingerprints\n",
    "    radius = 2\n",
    "    fingerprint_dict = {}  # Assuming you've initialized this dictionary before\n",
    "\n",
    "    for bond_id in suspected_bonds:\n",
    "        bond = mol.GetBondWithIdx(bond_id)\n",
    "        begin_atom = bond.GetBeginAtomIdx()\n",
    "        end_atom = bond.GetEndAtomIdx()\n",
    "        \n",
    "        # Generate fingerprints centered around the two atoms of the bond\n",
    "        fp_begin = AllChem.GetMorganFingerprintAsBitVect(mol, radius, useFeatures=False,useBondTypes=False, fromAtoms=[begin_atom])\n",
    "        fp_end = AllChem.GetMorganFingerprintAsBitVect(mol, radius, useFeatures=False,useBondTypes=False, fromAtoms=[end_atom])\n",
    "        \n",
    "        # Combine the two fingerprints with a logical OR\n",
    "        combined_fp = fp_begin | fp_end\n",
    "        # Convert to a hashable representation\n",
    "        hashable_fp = combined_fp.ToBitString()\n",
    "        fingerprint_dict[bond_id] = hashable_fp\n",
    "\n",
    "    # Group bonds with identical fingerprint representations\n",
    "    grouped_bonds = {}\n",
    "    for bond_id, fp in fingerprint_dict.items():\n",
    "        if fp not in grouped_bonds:\n",
    "            grouped_bonds[fp] = []\n",
    "        grouped_bonds[fp].append(bond_id)\n",
    "\n",
    "    # Convert to list of lists format\n",
    "    final_groups = [group for group in grouped_bonds.values() if len(group) > 1]\n",
    "\n",
    "    if len(final_groups) > 1:\n",
    "        # Sort by the size of the group and then by fingerprint value\n",
    "        sorted_groups = sorted(final_groups, key=lambda g: (-len(g), fingerprint_dict[g[0]]))\n",
    "        \n",
    "        # The first group will be the one with the highest count and the smallest fingerprint value\n",
    "        suspected_bonds = sorted_groups[0]\n",
    "\n",
    "    # Creating the graph\n",
    "    bond_list = suspected_bonds\n",
    "    G = create_graph_from_bonds(mol, bond_list)\n",
    "\n",
    "\n",
    "    matrix, nodes_order = create_adjacency_matrix(G)\n",
    "    #result = find_smallest_labels(matrix, nodes_order)\n",
    "    triangles_or_all = find_symmetrical_triangles_or_all(matrix, nodes_order)\n",
    "    set_bonds_fin=set()\n",
    "    for i in triangles_or_all:\n",
    "        set_bonds_fin.update(i)\n",
    "\n"
   ]
  },
  {
   "cell_type": "code",
   "execution_count": 12,
   "metadata": {},
   "outputs": [],
   "source": [
    "out=guilatine(mol_out,set_bonds_fin) # guilatine cuts the bonds\n",
    "out_frag=Chem.GetMolFrags(out, asMols=True,sanitizeFrags=False)\n",
    "fragment_list=frag_func(out_frag)"
   ]
  },
  {
   "cell_type": "code",
   "execution_count": 13,
   "metadata": {},
   "outputs": [
    {
     "name": "stdout",
     "output_type": "stream",
     "text": [
      "[H]c1c([H])c([H])c(-c2nc(-c3c([H])c([H])c([H])c([H])c3[H])nc(-c3c([H])c([H])c([H])c([H])c3[H])n2)c([H])c1[H]\n",
      "[H]B1OB([H])OB([H])O1\n",
      "+COF:447\n"
     ]
    }
   ],
   "source": [
    "if len(get_fragments_with_unique_ids(fragment_list)) ==2:\n",
    "    \n",
    "    out_1_m=get_fragments_with_unique_ids(fragment_list)[0]\n",
    "    out_2_m=get_fragments_with_unique_ids(fragment_list)[1]\n",
    "    out_sm1=Chem.MolToSmiles(out_1_m)\n",
    "    out_sm2=Chem.MolToSmiles(out_2_m)\n",
    "    ll=Chem.MolFromSmiles(out_sm1)\n",
    "    ll2=Chem.MolFromSmiles(out_sm2)  \n",
    "    ll.GetAtoms()\n",
    "    ll2.GetAtoms()\n",
    "\n",
    "    \n",
    "    print(out_sm1)\n",
    "    print(out_sm2)\n",
    "    \n",
    "    com=combine([out_1_m,out_2_m])\n",
    "    com_smile=Chem.MolToSmiles(com)\n",
    "\n",
    "    Chem.MolFromSmiles(com_smile)\n",
    "    results = Chem.Draw.MolsToGridImage([out_1_m,out_2_m,com],maxMols=10,subImgSize=(700,700),legends=[\"amount:\"+str(out_1_m.GetUnsignedProp(\"amount\"))+\", n_conncections:\" + str(out_1_m.GetUnsignedProp(\"number_connections\"))+\", type\" + str(out_1_m.GetUnsignedProp(\"type\"))+\", rule:\" + str(out_1_m.GetUnsignedProp(\"rule\")),\"amount:\"+str(out_2_m.GetUnsignedProp(\"amount\"))+\", n_conncections:\" + str(out_2_m.GetUnsignedProp(\"number_connections\"))+\", type\" + str(out_2_m.GetUnsignedProp(\"type\"))+\", rule:\" + str(out_2_m.GetUnsignedProp(\"rule\")), \"n+l\"],  returnPNG=False,molsPerRow=3)\n",
    "    \n",
    "    results.save(\"l_n_test/\" + str(icof)+\".png\")\n",
    "    text=str(icof)+\" || \"+\"COFs_in_cell: \"+str(len_cof_frag)+\" || \"+out_sm1+\" ,\"+\"amount:\"+str(out_1_m.GetUnsignedProp(\"amount\"))+\", n_conncections:\" + str(out_1_m.GetUnsignedProp(\"number_connections\"))+\", type\" + str(out_1_m.GetUnsignedProp(\"type\"))+\", rule:\" + str(out_1_m.GetUnsignedProp(\"rule\"))+\" ||| \"+ out_sm2+\" ,\"\"amount:\"+str(out_2_m.GetUnsignedProp(\"amount\"))+\", n_conncections:\" + str(out_2_m.GetUnsignedProp(\"number_connections\"))+\", type\" + str(out_2_m.GetUnsignedProp(\"type\"))+\", rule:\" + str(out_2_m.GetUnsignedProp(\"rule\"))+\" comb_smiles: \" +com_smile\n",
    "    \n",
    "    print(\"+COF:\"+str(icof))\n",
    "    \n",
    "elif len(get_fragments_with_unique_ids(out_frag)) >2:\n",
    "    print(\"more then 2 fragments in the output\")\n",
    "    print(\"-COF:\"+str(icof))\n"
   ]
  },
  {
   "cell_type": "code",
   "execution_count": null,
   "metadata": {},
   "outputs": [],
   "source": []
  }
 ],
 "metadata": {
  "kernelspec": {
   "display_name": "decof",
   "language": "python",
   "name": "python3"
  },
  "language_info": {
   "codemirror_mode": {
    "name": "ipython",
    "version": 3
   },
   "file_extension": ".py",
   "mimetype": "text/x-python",
   "name": "python",
   "nbconvert_exporter": "python",
   "pygments_lexer": "ipython3",
   "version": "3.11.9"
  }
 },
 "nbformat": 4,
 "nbformat_minor": 2
}
